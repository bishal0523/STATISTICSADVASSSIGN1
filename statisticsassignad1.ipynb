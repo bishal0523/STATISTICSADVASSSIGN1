{
 "cells": [
  {
   "cell_type": "code",
   "execution_count": 1,
   "id": "efd16a7a-2828-4aa4-91c6-8e748458c635",
   "metadata": {},
   "outputs": [],
   "source": [
    "\n",
    "\n",
    "# Q1. What is the Probability Density Function?\n",
    "# The Probability Density Function (PDF) is a function that describes the likelihood of a continuous random variable taking on a particular value. The value of the PDF at any given point represents the relative likelihood that the value of the random variable would equal that sample. For a PDF, the area under the curve over the entire range of possible values is equal to 1."
   ]
  },
  {
   "cell_type": "code",
   "execution_count": null,
   "id": "c8a0a7dd-f818-462b-b38b-e6e528a58047",
   "metadata": {},
   "outputs": [],
   "source": [
    "# Q2. What are the types of Probability Distribution?\n",
    "# Probability distributions can be categorized into several types:\n",
    "\n",
    "# Discrete Distributions:\n",
    "\n",
    "# Binomial Distribution\n",
    "# Poisson Distribution\n",
    "# Geometric Distribution\n",
    "# Hypergeometric Distribution\n",
    "# Continuous Distributions:\n",
    "\n",
    "# Normal Distribution\n",
    "# Exponential Distribution\n",
    "# Uniform Distribution\n",
    "# Beta Distribution\n",
    "# Gamma Distribution\n"
   ]
  },
  {
   "cell_type": "code",
   "execution_count": 2,
   "id": "4797915b-22cd-45db-940a-753a9fc97df0",
   "metadata": {},
   "outputs": [
    {
     "name": "stdout",
     "output_type": "stream",
     "text": [
      "PDF value at x=1.0 is 0.24197072451914337\n"
     ]
    }
   ],
   "source": [
    "\n",
    "\n",
    "# Q3. Write a Python function to calculate the probability density function of a normal distribution with given mean and standard deviation at a given point.\n",
    "\n",
    "import math\n",
    "\n",
    "def normal_pdf(x, mean, std):\n",
    "    \"\"\"Calculate the PDF of a normal distribution at point x.\"\"\"\n",
    "    return (1 / (std * math.sqrt(2 * math.pi))) * math.exp(-0.5 * ((x - mean) / std) ** 2)\n",
    "\n",
    "# Example usage\n",
    "x = 1.0\n",
    "mean = 0.0\n",
    "std = 1.0\n",
    "pdf_value = normal_pdf(x, mean, std)\n",
    "print(f\"PDF value at x={x} is {pdf_value}\")\n"
   ]
  },
  {
   "cell_type": "code",
   "execution_count": 7,
   "id": "83b0d9a3-8876-4bdf-ba7a-b3eac50ee8d2",
   "metadata": {},
   "outputs": [],
   "source": [
    "\n",
    "\n",
    "\n",
    "\n",
    "\n",
    "# Q4. What are the properties of Binomial Distribution? Give two examples of events where binomial distribution can be applied.\n",
    "# Properties of Binomial Distribution:\n",
    "\n",
    "# The experiment consists of n identical trials.\n",
    "# Each trial has only two possible outcomes: success or failure.\n",
    "# The probability of success p is constant for each trial.\n",
    "# The trials are independent of each other.\n",
    "# Examples:\n",
    "\n",
    "# Flipping a coin 10 times and counting the number of heads.\n",
    "# Checking 20 light bulbs and counting how many are defective."
   ]
  },
  {
   "cell_type": "code",
   "execution_count": 8,
   "id": "9d71a43f-2fd4-4916-bc1b-5c99ccf51aa5",
   "metadata": {},
   "outputs": [
    {
     "data": {
      "image/png": "[encoded data removed]",
      "text/plain": [
       "<Figure size 640x480 with 1 Axes>"
      ]
     },
     "metadata": {},
     "output_type": "display_data"
    }
   ],
   "source": [
    "#Q5. Generate a random sample of size 1000 from a binomial distribution with probability of success 0.4 and plot a histogram of the results using matplotlib.\n",
    "import numpy as np\n",
    "import matplotlib.pyplot as plt\n",
    "\n",
    "# Parameters\n",
    "n = 10  # Number of trials\n",
    "p = 0.4  # Probability of success\n",
    "\n",
    "# Generate random sample\n",
    "sample = np.random.binomial(n, p, 1000)\n",
    "\n",
    "# Plot histogram\n",
    "plt.hist(sample, bins=np.arange(0, n+2) - 0.5, edgecolor='black')\n",
    "plt.title('Histogram of Binomial Distribution (n=10, p=0.4)')\n",
    "plt.xlabel('Number of Successes')\n",
    "plt.ylabel('Frequency')\n",
    "plt.show()\n",
    "\n",
    "\n"
   ]
  },
  {
   "cell_type": "code",
   "execution_count": 9,
   "id": "7d873927-fa7d-4baf-bb44-24f96027b36c",
   "metadata": {},
   "outputs": [
    {
     "name": "stdout",
     "output_type": "stream",
     "text": [
      "CDF value at x=5 is 0.9160820579686966\n"
     ]
    }
   ],
   "source": [
    "#Q6. Write a Python function to calculate the cumulative distribution function of a Poisson distribution with given mean at a given point\n",
    "from scipy.stats import poisson\n",
    "\n",
    "def poisson_cdf(mean, x):\n",
    "    \"\"\"Calculate the CDF of a Poisson distribution at point x.\"\"\"\n",
    "    return poisson.cdf(x, mean)\n",
    "\n",
    "# Example usage\n",
    "mean = 3.0\n",
    "x = 5\n",
    "cdf_value = poisson_cdf(mean, x)\n",
    "print(f\"CDF value at x={x} is {cdf_value}\")\n"
   ]
  },
  {
   "cell_type": "code",
   "execution_count": 10,
   "id": "e0854d83-838f-458a-b566-46901acd2814",
   "metadata": {},
   "outputs": [],
   "source": [
    "# Q7. How is Binomial distribution different from Poisson distribution?\n",
    "# Binomial Distribution:\n",
    "\n",
    "# Defined for a fixed number of trials n.\n",
    "# Each trial has two outcomes: success or failure.\n",
    "# Probability of success p is constant.\n",
    "# Suitable for experiments with a fixed number of independent trials.\n",
    "# Poisson Distribution:\n",
    "\n",
    "# Defined for a given interval (time, area, etc.).\n",
    "# Counts the number of events occurring in a fixed interval.\n",
    "# Mean rate of occurrence (λ) is constant.\n",
    "# Suitable for modeling the number of events in a fixed interval of time or space."
   ]
  },
  {
   "cell_type": "code",
   "execution_count": null,
   "id": "1e4ae5bf-96d8-476b-89d4-0fb8e478af78",
   "metadata": {},
   "outputs": [],
   "source": [
    "#8."
   ]
  }
 ],
 "metadata": {
  "kernelspec": {
   "display_name": "Python 3 (ipykernel)",
   "language": "python",
   "name": "python3"
  },
  "language_info": {
   "codemirror_mode": {
    "name": "ipython",
    "version": 3
   },
   "file_extension": ".py",
   "mimetype": "text/x-python",
   "name": "python",
   "nbconvert_exporter": "python",
   "pygments_lexer": "ipython3",
   "version": "3.10.8"
  }
 },
 "nbformat": 4,
 "nbformat_minor": 5
}
